{
  "cells": [
    {
      "cell_type": "code",
      "execution_count": null,
      "metadata": {
        "id": "w4okit-i119T"
      },
      "outputs": [],
      "source": [
        "import warnings\n",
        "warnings.filterwarnings('ignore')\n",
        "\n",
        "import numpy as np\n",
        "import pandas as pd\n",
        "import copy\n",
        "import time\n",
        "import random\n",
        "\n",
        "import matplotlib.pyplot as plt\n",
        "plt.style.use(\"dark_background\")\n",
        "import seaborn as sns\n",
        "sns.set_style('darkgrid')\n",
        "\n",
        "from scipy import stats\n",
        "\n",
        "import torch\n",
        "from torch import nn\n",
        "from torch import optim\n",
        "import torch.nn.functional as F\n",
        "from torch.utils import data\n",
        "\n",
        "from sklearn.model_selection import train_test_split\n",
        "from sklearn.preprocessing import StandardScaler\n",
        "from sklearn.metrics import r2_score, mean_squared_error, mean_absolute_error, r2_score\n",
        "\n",
        "import category_encoders as ce\n",
        "\n",
        "\n",
        "SEED = 1337"
      ]
    },
    {
      "cell_type": "markdown",
      "metadata": {
        "id": "s_7UinZy119d"
      },
      "source": [
        "# EDA"
      ]
    },
    {
      "cell_type": "markdown",
      "metadata": {
        "id": "OlPvmKVc119h"
      },
      "source": [
        "Let's start with data mining:"
      ]
    },
    {
      "cell_type": "code",
      "execution_count": null,
      "metadata": {
        "id": "7D73C5xV119i"
      },
      "outputs": [],
      "source": [
        "raw = pd.read_table('ecommon_data.csv', delimiter=',', index_col='Unnamed: 0')\n",
        "raw.drop(columns=['PROXI_CATEG3'], inplace=True)\n",
        "\n",
        "raw.head()\n",
        "\n",
        "test = pd.read_table('discount_for_202010.csv', delimiter=';')\n",
        "test['DISCOUNT'] = test.DISCOUNT.map(lambda x: x.replace(',', '.')).astype('float')"
      ]
    },
    {
      "cell_type": "code",
      "execution_count": null,
      "metadata": {
        "id": "EjTxW7Hz119j",
        "outputId": "5e1ae45e-81b4-4fda-8c9e-0fc2f5321f3d"
      },
      "outputs": [
        {
          "name": "stdout",
          "output_type": "stream",
          "text": [
            "<class 'pandas.core.frame.DataFrame'>\n",
            "Int64Index: 135877 entries, 0 to 946349\n",
            "Data columns (total 5 columns):\n",
            " #   Column    Non-Null Count   Dtype  \n",
            "---  ------    --------------   -----  \n",
            " 0   SHIP_TO   135877 non-null  object \n",
            " 1   SKU       135877 non-null  object \n",
            " 2   PGI_DATE  135877 non-null  int64  \n",
            " 3   VOL       135877 non-null  float64\n",
            " 4   DISCOUNT  135877 non-null  float64\n",
            "dtypes: float64(2), int64(1), object(2)\n",
            "memory usage: 6.2+ MB\n"
          ]
        }
      ],
      "source": [
        "raw.info()"
      ]
    },
    {
      "cell_type": "markdown",
      "metadata": {
        "id": "VtCyOO-4119o"
      },
      "source": [
        "No data gaps"
      ]
    },
    {
      "cell_type": "code",
      "execution_count": null,
      "metadata": {
        "id": "3IeszOOK119p",
        "outputId": "2683d666-76e3-45d7-fe94-6d7ecb1e6a0e"
      },
      "outputs": [
        {
          "data": {
            "text/html": [
              "<div>\n",
              "<style scoped>\n",
              "    .dataframe tbody tr th:only-of-type {\n",
              "        vertical-align: middle;\n",
              "    }\n",
              "\n",
              "    .dataframe tbody tr th {\n",
              "        vertical-align: top;\n",
              "    }\n",
              "\n",
              "    .dataframe thead th {\n",
              "        text-align: right;\n",
              "    }\n",
              "</style>\n",
              "<table border=\"1\" class=\"dataframe\">\n",
              "  <thead>\n",
              "    <tr style=\"text-align: right;\">\n",
              "      <th></th>\n",
              "      <th>SHIP_TO</th>\n",
              "      <th>SKU</th>\n",
              "      <th>PGI_DATE</th>\n",
              "      <th>VOL</th>\n",
              "      <th>DISCOUNT</th>\n",
              "    </tr>\n",
              "  </thead>\n",
              "  <tbody>\n",
              "    <tr>\n",
              "      <th>count</th>\n",
              "      <td>135877</td>\n",
              "      <td>135877</td>\n",
              "      <td>1.358770e+05</td>\n",
              "      <td>135877.000000</td>\n",
              "      <td>135877.000000</td>\n",
              "    </tr>\n",
              "    <tr>\n",
              "      <th>unique</th>\n",
              "      <td>309</td>\n",
              "      <td>550</td>\n",
              "      <td>NaN</td>\n",
              "      <td>NaN</td>\n",
              "      <td>NaN</td>\n",
              "    </tr>\n",
              "    <tr>\n",
              "      <th>top</th>\n",
              "      <td>706155A5C878094F242F042F11C16B1A</td>\n",
              "      <td>F4655A2B707853F1B118E0DADC52F9BA</td>\n",
              "      <td>NaN</td>\n",
              "      <td>NaN</td>\n",
              "      <td>NaN</td>\n",
              "    </tr>\n",
              "    <tr>\n",
              "      <th>freq</th>\n",
              "      <td>12130</td>\n",
              "      <td>3064</td>\n",
              "      <td>NaN</td>\n",
              "      <td>NaN</td>\n",
              "      <td>NaN</td>\n",
              "    </tr>\n",
              "    <tr>\n",
              "      <th>mean</th>\n",
              "      <td>NaN</td>\n",
              "      <td>NaN</td>\n",
              "      <td>2.019682e+07</td>\n",
              "      <td>29.326639</td>\n",
              "      <td>2.592897</td>\n",
              "    </tr>\n",
              "    <tr>\n",
              "      <th>std</th>\n",
              "      <td>NaN</td>\n",
              "      <td>NaN</td>\n",
              "      <td>4.662385e+03</td>\n",
              "      <td>267.753829</td>\n",
              "      <td>6.651910</td>\n",
              "    </tr>\n",
              "    <tr>\n",
              "      <th>min</th>\n",
              "      <td>NaN</td>\n",
              "      <td>NaN</td>\n",
              "      <td>2.019040e+07</td>\n",
              "      <td>-7362.672000</td>\n",
              "      <td>0.000000</td>\n",
              "    </tr>\n",
              "    <tr>\n",
              "      <th>25%</th>\n",
              "      <td>NaN</td>\n",
              "      <td>NaN</td>\n",
              "      <td>2.019102e+07</td>\n",
              "      <td>4.144800</td>\n",
              "      <td>0.000000</td>\n",
              "    </tr>\n",
              "    <tr>\n",
              "      <th>50%</th>\n",
              "      <td>NaN</td>\n",
              "      <td>NaN</td>\n",
              "      <td>2.020041e+07</td>\n",
              "      <td>7.649040</td>\n",
              "      <td>0.000000</td>\n",
              "    </tr>\n",
              "    <tr>\n",
              "      <th>75%</th>\n",
              "      <td>NaN</td>\n",
              "      <td>NaN</td>\n",
              "      <td>2.020042e+07</td>\n",
              "      <td>17.521200</td>\n",
              "      <td>0.000000</td>\n",
              "    </tr>\n",
              "    <tr>\n",
              "      <th>max</th>\n",
              "      <td>NaN</td>\n",
              "      <td>NaN</td>\n",
              "      <td>2.020043e+07</td>\n",
              "      <td>58841.088000</td>\n",
              "      <td>45.000000</td>\n",
              "    </tr>\n",
              "  </tbody>\n",
              "</table>\n",
              "</div>"
            ],
            "text/plain": [
              "                                 SHIP_TO                               SKU  \\\n",
              "count                             135877                            135877   \n",
              "unique                               309                               550   \n",
              "top     706155A5C878094F242F042F11C16B1A  F4655A2B707853F1B118E0DADC52F9BA   \n",
              "freq                               12130                              3064   \n",
              "mean                                 NaN                               NaN   \n",
              "std                                  NaN                               NaN   \n",
              "min                                  NaN                               NaN   \n",
              "25%                                  NaN                               NaN   \n",
              "50%                                  NaN                               NaN   \n",
              "75%                                  NaN                               NaN   \n",
              "max                                  NaN                               NaN   \n",
              "\n",
              "            PGI_DATE            VOL       DISCOUNT  \n",
              "count   1.358770e+05  135877.000000  135877.000000  \n",
              "unique           NaN            NaN            NaN  \n",
              "top              NaN            NaN            NaN  \n",
              "freq             NaN            NaN            NaN  \n",
              "mean    2.019682e+07      29.326639       2.592897  \n",
              "std     4.662385e+03     267.753829       6.651910  \n",
              "min     2.019040e+07   -7362.672000       0.000000  \n",
              "25%     2.019102e+07       4.144800       0.000000  \n",
              "50%     2.020041e+07       7.649040       0.000000  \n",
              "75%     2.020042e+07      17.521200       0.000000  \n",
              "max     2.020043e+07   58841.088000      45.000000  "
            ]
          },
          "execution_count": 4,
          "metadata": {},
          "output_type": "execute_result"
        }
      ],
      "source": [
        "raw.describe(include='all')"
      ]
    },
    {
      "cell_type": "markdown",
      "metadata": {
        "id": "oIgb55M4119q"
      },
      "source": [
        "For categorical features: date, point, product, we will need to encode them. Based on the tests, we decided to encode them using One-Hot Encoding, therefore, in order for the feature matrices to be of the same dimension, it is necessary to encode the combined train and test samples."
      ]
    },
    {
      "cell_type": "code",
      "execution_count": null,
      "metadata": {
        "id": "pMF8A7w4119r"
      },
      "outputs": [],
      "source": [
        "merged = raw.append(test)\n",
        "merged = pd.get_dummies(merged, columns=['PGI_DATE', 'SHIP_TO', 'SKU'])\n",
        "raw = merged[:135877]\n",
        "test = merged[135877:]\n",
        "test.drop(columns=['VOL'], inplace=True)"
      ]
    },
    {
      "cell_type": "markdown",
      "metadata": {
        "id": "GSqL7zKO119s"
      },
      "source": [
        "#### Outliers in VOL column are too large"
      ]
    },
    {
      "cell_type": "markdown",
      "metadata": {
        "id": "uzIBAy1P119u"
      },
      "source": [
        "The outliers in VOL, however, are too large, we decided to get rid of them so that the model does not adjust for these outliers. On real data, most likely, the distribution would look approximately normal, so it would not be necessary to get rid of outliers."
      ]
    },
    {
      "cell_type": "code",
      "execution_count": null,
      "metadata": {
        "id": "2QMgnqE-119v",
        "outputId": "2714099a-4879-4c4b-808c-5f0e05aa4218"
      },
      "outputs": [
        {
          "data": {
            "image/png": "[encoded data removed]",
            "text/plain": [
              "<Figure size 864x576 with 1 Axes>"
            ]
          },
          "metadata": {},
          "output_type": "display_data"
        }
      ],
      "source": [
        "plt.figure(figsize=(12, 8))\n",
        "sns.distplot(raw.VOL)\n",
        "plt.show()"
      ]
    },
    {
      "cell_type": "code",
      "execution_count": null,
      "metadata": {
        "id": "hlqomGs9119w",
        "outputId": "933667e3-20f4-4910-81de-7c10c6bcbfc2"
      },
      "outputs": [
        {
          "data": {
            "image/png": "[encoded data removed]",
            "text/plain": [
              "<Figure size 864x576 with 1 Axes>"
            ]
          },
          "metadata": {},
          "output_type": "display_data"
        }
      ],
      "source": [
        "fig = plt.figure(figsize=(12, 8))\n",
        "ax1 = fig.add_subplot(211)\n",
        "prob = stats.probplot(raw.VOL.values, dist=stats.norm, plot=ax1)"
      ]
    },
    {
      "cell_type": "code",
      "execution_count": null,
      "metadata": {
        "id": "YSPnpDa8119x",
        "outputId": "d38713d7-a95c-40ec-dd68-647145a04715"
      },
      "outputs": [
        {
          "name": "stdout",
          "output_type": "stream",
          "text": [
            "13.3764\n"
          ]
        }
      ],
      "source": [
        "Q1 = raw.VOL.quantile(0.25)\n",
        "Q3 = raw.VOL.quantile(0.75)\n",
        "IQR = Q3 - Q1\n",
        "\n",
        "print(IQR)"
      ]
    },
    {
      "cell_type": "code",
      "execution_count": null,
      "metadata": {
        "id": "FvFw5BNT119z"
      },
      "outputs": [],
      "source": [
        "raw = raw[~((raw.VOL < (Q1 - 1.5 * IQR)) | (raw.VOL > (Q3 + 1.5 * IQR)))]"
      ]
    },
    {
      "cell_type": "code",
      "execution_count": null,
      "metadata": {
        "id": "YaQJxIVd1190",
        "outputId": "764edc6a-502b-4bfe-caf7-afeb799deee0"
      },
      "outputs": [
        {
          "data": {
            "image/png": "[encoded data removed]",
            "text/plain": [
              "<Figure size 864x576 with 1 Axes>"
            ]
          },
          "metadata": {},
          "output_type": "display_data"
        }
      ],
      "source": [
        "plt.figure(figsize=(12, 8))\n",
        "sns.distplot(raw.VOL)\n",
        "plt.show()"
      ]
    },
    {
      "cell_type": "code",
      "execution_count": null,
      "metadata": {
        "id": "5zVN1akF1192",
        "outputId": "856e33b7-8326-4bd7-d804-f9581d176aba"
      },
      "outputs": [
        {
          "data": {
            "image/png": "[encoded data removed]",
            "text/plain": [
              "<Figure size 864x576 with 1 Axes>"
            ]
          },
          "metadata": {},
          "output_type": "display_data"
        }
      ],
      "source": [
        "fig = plt.figure(figsize=(12, 8))\n",
        "ax2 = fig.add_subplot(212)\n",
        "prob = stats.probplot(raw.VOL.values, dist=stats.norm, plot=ax2)"
      ]
    },
    {
      "cell_type": "code",
      "execution_count": null,
      "metadata": {
        "id": "q2YOl5OM1193",
        "outputId": "a0bbc593-8b3d-4fa5-b2bb-9aab929abb22"
      },
      "outputs": [
        {
          "data": {
            "text/plain": [
              "count    118640.000000\n",
              "mean          9.555906\n",
              "std           8.885571\n",
              "min         -15.888400\n",
              "25%           4.144800\n",
              "50%           7.347600\n",
              "75%          12.151800\n",
              "max          37.303200\n",
              "Name: VOL, dtype: float64"
            ]
          },
          "execution_count": 12,
          "metadata": {},
          "output_type": "execute_result"
        }
      ],
      "source": [
        "# Describe the data now\n",
        "raw.VOL.describe()"
      ]
    },
    {
      "cell_type": "code",
      "execution_count": null,
      "metadata": {
        "id": "LIkjBku31195"
      },
      "outputs": [],
      "source": [
        "# Separate target from features\n",
        "y = raw.VOL\n",
        "raw.drop(['VOL'], axis=1, inplace=True)"
      ]
    },
    {
      "cell_type": "code",
      "execution_count": null,
      "metadata": {
        "id": "KszHt0_K1196"
      },
      "outputs": [],
      "source": [
        "# Divide the sample into train and test\n",
        "X_train, X_test, y_train, y_test = train_test_split(\n",
        "    raw, y,\n",
        "    train_size=0.7,\n",
        "    test_size=0.3,\n",
        "    random_state=1337\n",
        ")"
      ]
    },
    {
      "cell_type": "code",
      "execution_count": null,
      "metadata": {
        "id": "0SoASdNZ1197"
      },
      "outputs": [],
      "source": [
        "# divide test additionally into validation and test\n",
        "X_val, X_test, y_val, y_test = train_test_split(\n",
        "    X_test, y_test,\n",
        "    train_size=0.5,\n",
        "    test_size=0.5,\n",
        "    random_state=1337\n",
        ")"
      ]
    },
    {
      "cell_type": "code",
      "execution_count": null,
      "metadata": {
        "id": "DwuxVZhk1198"
      },
      "outputs": [],
      "source": [
        "# Scale data to the distribution with average 0 and standard deviation 1\n",
        "scaler = StandardScaler()\n",
        "\n",
        "X_train = scaler.fit_transform(X_train)\n",
        "X_test = scaler.fit_transform(X_test)\n",
        "X_val = scaler.fit_transform(X_val)\n",
        "test = scaler.fit_transform(test)"
      ]
    },
    {
      "cell_type": "code",
      "execution_count": null,
      "metadata": {
        "id": "yOWrEyT_1199"
      },
      "outputs": [],
      "source": [
        "# Convert to tensors PyTorch\n",
        "X_train_tensor = torch.from_numpy(X_train).float()\n",
        "X_val_tensor = torch.from_numpy(X_val).float()\n",
        "y_train_tensor = torch.from_numpy(y_train.values).float()\n",
        "y_val_tensor = torch.from_numpy(y_val.values).float()\n",
        "\n",
        "X_test_tensor = torch.from_numpy(X_test).float()\n",
        "y_test_tensor = torch.from_numpy(y_test.values).float()\n",
        "\n",
        "test_tensor = torch.from_numpy(test).float()\n",
        "\n",
        "# Create dataloaders\n",
        "train_dataset = data.TensorDataset(X_train_tensor, y_train_tensor)\n",
        "val_dataset = data.TensorDataset(X_val_tensor, y_val_tensor)\n",
        "\n",
        "dataloaders = {'train': data.DataLoader(train_dataset, batch_size=3000, shuffle=True, num_workers=2),\n",
        "               'val': data.DataLoader(val_dataset, batch_size=3000, shuffle=True, num_workers=2)}"
      ]
    },
    {
      "cell_type": "markdown",
      "metadata": {
        "id": "vZ4xwLKh119-"
      },
      "source": [
        "# Multilayer Perceptron"
      ]
    },
    {
      "cell_type": "code",
      "execution_count": null,
      "metadata": {
        "id": "JiiuIADQ119-"
      },
      "outputs": [],
      "source": [
        "class DanoNet(nn.Module):\n",
        "    \"\"\"\n",
        "    Multilayer perceptron with Leaky ReLu and dropout.\n",
        "\n",
        "     n_input(int): number of neurons in the input layer\n",
        "     n_hidden (int list): list the number of neurons n_hidden[i] in the i-th hidden layer\n",
        "     n_output (int): number of neurons in the output layer\n",
        "     drop_p (float): dropout probability\n",
        "    \"\"\"\n",
        "    def __init__(self, n_input, n_hidden, drop_p, random_state=SEED):\n",
        "        super().__init__()\n",
        "        self.random_state = random_state\n",
        "        self.hidden_layers = nn.ModuleList([nn.Linear(n_input, n_hidden[0])])\n",
        "        self.hidden_layers.extend([nn.Linear(h1, h2) for h1, h2 in zip(n_hidden[:-1], n_hidden[1:])])\n",
        "        self.output_layer = nn.Linear(n_hidden[-1], 1)\n",
        "        self.dropout = nn.Dropout(p=drop_p)\n",
        "\n",
        "    def forward(self, X):\n",
        "        \"\"\"Direct pass, count the output data\"\"\"\n",
        "        for layer in self.hidden_layers:\n",
        "            X = F.leaky_relu(layer(X))\n",
        "            X = self.dropout(X)\n",
        "        X = self.output_layer(X)\n",
        "        return X\n",
        "\n",
        "    def predict(self, X_test):\n",
        "        return self.forward(X_test).detach().squeeze(1).cpu().numpy()"
      ]
    },
    {
      "cell_type": "code",
      "execution_count": null,
      "metadata": {
        "id": "UU6IhkJR11-A"
      },
      "outputs": [],
      "source": [
        "def train(model, epochs, criterion, optimizer, scheduler, dataloaders, verbose=False):\n",
        "    \"\"\"\n",
        "    Model training\n",
        "\n",
        "     model: training model\n",
        "     epochs (int): number of epochs\n",
        "     criterion: loss function\n",
        "     optimizer: optimizer\n",
        "     scheduler: learning rate scheduler\n",
        "     dataloaders: data loaders for training and validation\n",
        "     verbose (bool): print training details (elapsed tense and loss)\n",
        "    \"\"\"\n",
        "\n",
        "    t0_tot = time.time()\n",
        "\n",
        "    device = torch.device('cuda' if torch.cuda.is_available() else 'cpu')\n",
        "    print(f\"Training on {device}\")\n",
        "    model.to(device)\n",
        "\n",
        "    best_model_wts = copy.deepcopy(model.state_dict())\n",
        "    best_loss = np.inf\n",
        "    losses = {'train': [], 'val': []}\n",
        "    rmse_values = []\n",
        "    mae_values = []\n",
        "    r2_values = []\n",
        "\n",
        "    for epoch in range(epochs):\n",
        "        t0 = time.time()\n",
        "        print(f\"============== Epoch {epoch + 1}/{epochs} ==============\")\n",
        "        for phase in ['train', 'val']:\n",
        "            if phase == 'train':\n",
        "                scheduler.step()\n",
        "                if verbose:\n",
        "                    print(f\"lr: {scheduler.get_lr()}\")\n",
        "                model.train()\n",
        "            else:\n",
        "                model.eval()\n",
        "\n",
        "            running_loss = 0.0\n",
        "            for ii, (X_batch, y_batch) in enumerate(dataloaders[phase], start=1):\n",
        "                X_batch, y_batch = X_batch.to(device), y_batch.to(device)\n",
        "\n",
        "                optimizer.zero_grad()\n",
        "\n",
        "                with torch.set_grad_enabled(phase == 'train'):\n",
        "                    outputs = model(X_batch).squeeze(1)\n",
        "                    loss = criterion(outputs, y_batch)\n",
        "                    if phase == 'train':\n",
        "                        loss.backward()\n",
        "                        optimizer.step()\n",
        "\n",
        "                running_loss += loss.item() * X_batch.shape[0]\n",
        "\n",
        "            ep_loss = running_loss / len(dataloaders[phase].dataset)\n",
        "            losses[phase].append(ep_loss)\n",
        "            if verbose:\n",
        "                print(f\"({phase}) Loss: {ep_loss:.5f}\")\n",
        "\n",
        "            if phase == 'val' and ep_loss < best_loss:\n",
        "                best_loss = ep_loss\n",
        "                best_model_wts = copy.deepcopy(model.state_dict())\n",
        "\n",
        "        rmse = mean_squared_error(dataloaders['val'].dataset.tensors[1].numpy(),\n",
        "                    model.predict(dataloaders['val'].dataset.tensors[0].to(device)), squared=True)\n",
        "        rmse_values.append(rmse)\n",
        "        mae = mean_absolute_error(dataloaders['val'].dataset.tensors[1].numpy(),\n",
        "                    model.predict(dataloaders['val'].dataset.tensors[0].to(device)))\n",
        "        mae_values.append(mae)\n",
        "        r2 = r2_score(dataloaders['val'].dataset.tensors[1].numpy(),\n",
        "                    model.predict(dataloaders['val'].dataset.tensors[0].to(device)))\n",
        "        r2_values.append(r2)\n",
        "\n",
        "        if verbose:\n",
        "            print(f\"(val) RMSE: {rmse}\")\n",
        "            print(f\"(val) MAE: {mae}\")\n",
        "            print(f\"(val) R2: {r2}\")\n",
        "            print(f\"\\nElapsed time: {round(time.time()-t0, 2)} sec\\n\")\n",
        "\n",
        "    print(f\"\\nTraining completed in {round(time.time()-t0_tot, 2)} sec\")\n",
        "\n",
        "    model.load_state_dict(best_model_wts)\n",
        "    model.losses = losses\n",
        "    model.rmse_values = rmse_values\n",
        "    model.mae_values = mae_values\n",
        "    model.r2_values = r2_values\n",
        "    model.to('cpu')\n",
        "    model.eval()\n",
        "\n",
        "    return model\n",
        "\n",
        "\n",
        "def plot_losses(train_losses, val_losses):\n",
        "    y = [train_losses, val_losses]\n",
        "    c = ['C7', 'C9']\n",
        "    labels = ['Train loss', 'Validation loss']\n",
        "\n",
        "    fig, ax = plt.subplots(1, 1, figsize=(10, 5))\n",
        "    x = list(range(1, len(train_losses)+1))\n",
        "\n",
        "    for i in range(2):\n",
        "        ax.plot(x, y[i], lw=3, label=labels[i], color=c[i])\n",
        "        ax.set_xlabel('Epoch', fontsize=16)\n",
        "        ax.set_ylabel('Loss', fontsize=16)\n",
        "        ax.set_xticks(range(0, x[-1]+1, 2))\n",
        "        ax.legend(loc='best')\n",
        "    plt.tight_layout()\n",
        "    plt.show()\n",
        "\n",
        "\n",
        "def plot_rmse(rmse_values):\n",
        "    fig, ax = plt.subplots(1, 1, figsize=(10, 5))\n",
        "    x = list(range(1, len(rmse_values)+1))\n",
        "\n",
        "    ax.plot(x, rmse_values, lw=3, color='C6')\n",
        "    ax.set_xlabel('Epoch', fontsize=16)\n",
        "    ax.set_ylabel('RMSE', fontsize=16)\n",
        "    ax.set_xticks(range(0, x[-1]+1, 2))\n",
        "    plt.tight_layout()\n",
        "    plt.show()\n",
        "\n",
        "\n",
        "def plot_mae(mae_values):\n",
        "    fig, ax = plt.subplots(1, 1, figsize=(10, 5))\n",
        "    x = list(range(1, len(mae_values)+1))\n",
        "\n",
        "    ax.plot(x, mae_values, lw=3, color='C6')\n",
        "    ax.set_xlabel('Epoch', fontsize=16)\n",
        "    ax.set_ylabel('MAE', fontsize=16)\n",
        "    ax.set_xticks(range(0, x[-1]+1, 2))\n",
        "    plt.tight_layout()\n",
        "    plt.show()\n",
        "\n",
        "\n",
        "def plot_r2(r2_values):\n",
        "    fig, ax = plt.subplots(1, 1, figsize=(10, 5))\n",
        "    x = list(range(1, len(r2_values)+1))\n",
        "\n",
        "    ax.plot(x, r2_values, lw=3, color='C6')\n",
        "    ax.set_xlabel('Epoch', fontsize=16)\n",
        "    ax.set_ylabel('R^2 Score', fontsize=16)\n",
        "    ax.set_xticks(range(0, x[-1]+1, 2))\n",
        "    plt.tight_layout()\n",
        "    plt.show()"
      ]
    },
    {
      "cell_type": "code",
      "execution_count": null,
      "metadata": {
        "id": "5W-fbemh11-C"
      },
      "outputs": [],
      "source": [
        "danonet = DanoNet(n_input=X_train.shape[1], n_hidden=[300, 200, 100], drop_p=0.4)\n",
        "\n",
        "criterion = nn.MSELoss()\n",
        "optimizer = optim.Adam(danonet.parameters(), lr=0.01, weight_decay=0.005)\n",
        "scheduler = optim.lr_scheduler.StepLR(optimizer, step_size=5, gamma=0.1)\n",
        "\n",
        "epochs = 30"
      ]
    },
    {
      "cell_type": "code",
      "execution_count": null,
      "metadata": {
        "id": "N8RwNKbF11-D",
        "outputId": "879ca68f-ceaa-4a96-b12c-ff99774f8cae"
      },
      "outputs": [
        {
          "name": "stdout",
          "output_type": "stream",
          "text": [
            "Training on cuda\n",
            "============== Epoch 1/30 ==============\n",
            "lr: [0.01]\n",
            "(train) Loss: 61.92148\n",
            "(val) Loss: 37.74994\n",
            "(val) RMSE: 37.749942779541016\n",
            "(val) MAE: 4.163487911224365\n",
            "(val) R2: 0.5347158863071465\n",
            "\n",
            "Elapsed time: 3.37 sec\n",
            "\n",
            "============== Epoch 2/30 ==============\n",
            "lr: [0.01]\n",
            "(train) Loss: 38.89948\n",
            "(val) Loss: 36.19671\n",
            "(val) RMSE: 36.19670867919922\n",
            "(val) MAE: 4.016976356506348\n",
            "(val) R2: 0.5538601100043403\n",
            "\n",
            "Elapsed time: 2.98 sec\n",
            "\n",
            "============== Epoch 3/30 ==============\n",
            "lr: [0.01]\n",
            "(train) Loss: 36.93914\n",
            "(val) Loss: 35.72274\n",
            "(val) RMSE: 35.72273635864258\n",
            "(val) MAE: 3.951401472091675\n",
            "(val) R2: 0.5597020304966334\n",
            "\n",
            "Elapsed time: 3.09 sec\n",
            "\n",
            "============== Epoch 4/30 ==============\n",
            "lr: [0.01]\n",
            "(train) Loss: 35.63404\n",
            "(val) Loss: 35.45784\n",
            "(val) RMSE: 35.45783996582031\n",
            "(val) MAE: 3.8385539054870605\n",
            "(val) R2: 0.5629670327287053\n",
            "\n",
            "Elapsed time: 2.93 sec\n",
            "\n",
            "============== Epoch 5/30 ==============\n",
            "lr: [0.0001]\n",
            "(train) Loss: 33.19982\n",
            "(val) Loss: 33.26617\n",
            "(val) RMSE: 33.26617431640625\n",
            "(val) MAE: 3.7290279865264893\n",
            "(val) R2: 0.5899802395988587\n",
            "\n",
            "Elapsed time: 2.84 sec\n",
            "\n",
            "============== Epoch 6/30 ==============\n",
            "lr: [0.001]\n",
            "(train) Loss: 31.70820\n",
            "(val) Loss: 32.40935\n",
            "(val) RMSE: 32.40934753417969\n",
            "(val) MAE: 3.6822121143341064\n",
            "(val) R2: 0.6005409901545395\n",
            "\n",
            "Elapsed time: 2.83 sec\n",
            "\n",
            "============== Epoch 7/30 ==============\n",
            "lr: [0.001]\n",
            "(train) Loss: 31.18100\n",
            "(val) Loss: 32.01444\n",
            "(val) RMSE: 32.014442443847656\n",
            "(val) MAE: 3.651118516921997\n",
            "(val) R2: 0.6054083375784041\n",
            "\n",
            "Elapsed time: 2.85 sec\n",
            "\n",
            "============== Epoch 8/30 ==============\n",
            "lr: [0.001]\n",
            "(train) Loss: 30.78573\n",
            "(val) Loss: 31.68533\n",
            "(val) RMSE: 31.68532943725586\n",
            "(val) MAE: 3.638810157775879\n",
            "(val) R2: 0.6094648329034775\n",
            "\n",
            "Elapsed time: 2.83 sec\n",
            "\n",
            "============== Epoch 9/30 ==============\n",
            "lr: [0.001]\n",
            "(train) Loss: 30.20515\n",
            "(val) Loss: 31.34879\n",
            "(val) RMSE: 31.348783493041992\n",
            "(val) MAE: 3.6059370040893555\n",
            "(val) R2: 0.6136128754700033\n",
            "\n",
            "Elapsed time: 2.82 sec\n",
            "\n",
            "============== Epoch 10/30 ==============\n",
            "lr: [1e-05]\n",
            "(train) Loss: 29.95733\n",
            "(val) Loss: 31.41190\n",
            "(val) RMSE: 31.411897659301758\n",
            "(val) MAE: 3.5902323722839355\n",
            "(val) R2: 0.6128349785777801\n",
            "\n",
            "Elapsed time: 2.85 sec\n",
            "\n",
            "============== Epoch 11/30 ==============\n",
            "lr: [0.0001]\n",
            "(train) Loss: 29.92710\n",
            "(val) Loss: 31.35001\n",
            "(val) RMSE: 31.350011825561523\n",
            "(val) MAE: 3.591855764389038\n",
            "(val) R2: 0.6135977436187855\n",
            "\n",
            "Elapsed time: 2.84 sec\n",
            "\n",
            "============== Epoch 12/30 ==============\n",
            "lr: [0.0001]\n",
            "(train) Loss: 29.67761\n",
            "(val) Loss: 31.30810\n",
            "(val) RMSE: 31.308095932006836\n",
            "(val) MAE: 3.5892791748046875\n",
            "(val) R2: 0.6141143603006848\n",
            "\n",
            "Elapsed time: 2.91 sec\n",
            "\n",
            "============== Epoch 13/30 ==============\n",
            "lr: [0.0001]\n",
            "(train) Loss: 29.75023\n",
            "(val) Loss: 31.22377\n",
            "(val) RMSE: 31.223764419555664\n",
            "(val) MAE: 3.595201253890991\n",
            "(val) R2: 0.6151537666729379\n",
            "\n",
            "Elapsed time: 2.97 sec\n",
            "\n",
            "============== Epoch 14/30 ==============\n",
            "lr: [0.0001]\n",
            "(train) Loss: 29.72978\n",
            "(val) Loss: 31.23220\n",
            "(val) RMSE: 31.232196807861328\n",
            "(val) MAE: 3.584320306777954\n",
            "(val) R2: 0.6150498374882397\n",
            "\n",
            "Elapsed time: 2.92 sec\n",
            "\n",
            "============== Epoch 15/30 ==============\n",
            "lr: [1.0000000000000002e-06]\n",
            "(train) Loss: 29.61005\n",
            "(val) Loss: 31.23007\n",
            "(val) RMSE: 31.230072021484375\n",
            "(val) MAE: 3.583953857421875\n",
            "(val) R2: 0.6150760284815596\n",
            "\n",
            "Elapsed time: 2.84 sec\n",
            "\n",
            "============== Epoch 16/30 ==============\n",
            "lr: [1e-05]\n",
            "(train) Loss: 29.62345\n",
            "(val) Loss: 31.23167\n",
            "(val) RMSE: 31.231670379638672\n",
            "(val) MAE: 3.5829873085021973\n",
            "(val) R2: 0.615056365665936\n",
            "\n",
            "Elapsed time: 2.84 sec\n",
            "\n",
            "============== Epoch 17/30 ==============\n",
            "lr: [1e-05]\n",
            "(train) Loss: 29.64942\n",
            "(val) Loss: 31.23496\n",
            "(val) RMSE: 31.234960556030273\n",
            "(val) MAE: 3.5819756984710693\n",
            "(val) R2: 0.6150158126605929\n",
            "\n",
            "Elapsed time: 2.83 sec\n",
            "\n",
            "============== Epoch 18/30 ==============\n",
            "lr: [1e-05]\n",
            "(train) Loss: 29.50044\n",
            "(val) Loss: 31.23302\n",
            "(val) RMSE: 31.23301887512207\n",
            "(val) MAE: 3.581732988357544\n",
            "(val) R2: 0.6150397332439621\n",
            "\n",
            "Elapsed time: 2.85 sec\n",
            "\n",
            "============== Epoch 19/30 ==============\n",
            "lr: [1e-05]\n",
            "(train) Loss: 29.61074\n",
            "(val) Loss: 31.22322\n",
            "(val) RMSE: 31.223224639892578\n",
            "(val) MAE: 3.582313299179077\n",
            "(val) R2: 0.6151604892204292\n",
            "\n",
            "Elapsed time: 2.85 sec\n",
            "\n",
            "============== Epoch 20/30 ==============\n",
            "lr: [1.0000000000000002e-07]\n",
            "(train) Loss: 29.42851\n",
            "(val) Loss: 31.22215\n",
            "(val) RMSE: 31.222148895263672\n",
            "(val) MAE: 3.5823943614959717\n",
            "(val) R2: 0.615173679612789\n",
            "\n",
            "Elapsed time: 2.84 sec\n",
            "\n",
            "============== Epoch 21/30 ==============\n",
            "lr: [1.0000000000000002e-06]\n",
            "(train) Loss: 29.58184\n",
            "(val) Loss: 31.22315\n",
            "(val) RMSE: 31.223146438598633\n",
            "(val) MAE: 3.582195997238159\n",
            "(val) R2: 0.6151613991366801\n",
            "\n",
            "Elapsed time: 2.84 sec\n",
            "\n",
            "============== Epoch 22/30 ==============\n",
            "lr: [1.0000000000000002e-06]\n",
            "(train) Loss: 29.48470\n",
            "(val) Loss: 31.22196\n",
            "(val) RMSE: 31.22196388244629\n",
            "(val) MAE: 3.582265615463257\n",
            "(val) R2: 0.6151759879111633\n",
            "\n",
            "Elapsed time: 2.85 sec\n",
            "\n",
            "============== Epoch 23/30 ==============\n",
            "lr: [1.0000000000000002e-06]\n",
            "(train) Loss: 29.61444\n",
            "(val) Loss: 31.22145\n",
            "(val) RMSE: 31.221450805664062\n",
            "(val) MAE: 3.582268476486206\n",
            "(val) R2: 0.6151823129394094\n",
            "\n",
            "Elapsed time: 2.83 sec\n",
            "\n",
            "============== Epoch 24/30 ==============\n",
            "lr: [1.0000000000000002e-06]\n",
            "(train) Loss: 29.36492\n",
            "(val) Loss: 31.22203\n",
            "(val) RMSE: 31.222026824951172\n",
            "(val) MAE: 3.5821385383605957\n",
            "(val) R2: 0.6151752284827416\n",
            "\n",
            "Elapsed time: 2.84 sec\n",
            "\n",
            "============== Epoch 25/30 ==============\n",
            "lr: [1.0000000000000004e-08]\n",
            "(train) Loss: 29.55888\n",
            "(val) Loss: 31.22205\n",
            "(val) RMSE: 31.222043991088867\n",
            "(val) MAE: 3.5821290016174316\n",
            "(val) R2: 0.6151749814564864\n",
            "\n",
            "Elapsed time: 2.81 sec\n",
            "\n",
            "============== Epoch 26/30 ==============\n",
            "lr: [1.0000000000000002e-07]\n",
            "(train) Loss: 29.56246\n",
            "(val) Loss: 31.22197\n",
            "(val) RMSE: 31.221969604492188\n",
            "(val) MAE: 3.5821309089660645\n",
            "(val) R2: 0.6151758867068194\n",
            "\n",
            "Elapsed time: 2.84 sec\n",
            "\n",
            "============== Epoch 27/30 ==============\n",
            "lr: [1.0000000000000002e-07]\n",
            "(train) Loss: 29.55806\n",
            "(val) Loss: 31.22194\n",
            "(val) RMSE: 31.221939086914062\n",
            "(val) MAE: 3.5821268558502197\n",
            "(val) R2: 0.6151762625660104\n",
            "\n",
            "Elapsed time: 2.83 sec\n",
            "\n",
            "============== Epoch 28/30 ==============\n",
            "lr: [1.0000000000000002e-07]\n",
            "(train) Loss: 29.62593\n",
            "(val) Loss: 31.22192\n",
            "(val) RMSE: 31.221914291381836\n",
            "(val) MAE: 3.5821218490600586\n",
            "(val) R2: 0.6151765884498002\n",
            "\n",
            "Elapsed time: 2.94 sec\n",
            "\n",
            "============== Epoch 29/30 ==============\n",
            "lr: [1.0000000000000002e-07]\n",
            "(train) Loss: 29.71888\n",
            "(val) Loss: 31.22194\n",
            "(val) RMSE: 31.221935272216797\n",
            "(val) MAE: 3.58211350440979\n",
            "(val) R2: 0.615176352606172\n",
            "\n",
            "Elapsed time: 2.88 sec\n",
            "\n",
            "============== Epoch 30/30 ==============\n",
            "lr: [1.0000000000000005e-09]\n",
            "(train) Loss: 29.59889\n",
            "(val) Loss: 31.22194\n",
            "(val) RMSE: 31.221942901611328\n",
            "(val) MAE: 3.5821118354797363\n",
            "(val) R2: 0.6151762543701603\n",
            "\n",
            "Elapsed time: 2.87 sec\n",
            "\n",
            "\n",
            "Training completed in 87.85 sec\n"
          ]
        },
        {
          "data": {
            "text/plain": [
              "DanoNet(\n",
              "  (hidden_layers): ModuleList(\n",
              "    (0): Linear(in_features=1244, out_features=300, bias=True)\n",
              "    (1): Linear(in_features=300, out_features=200, bias=True)\n",
              "    (2): Linear(in_features=200, out_features=100, bias=True)\n",
              "  )\n",
              "  (output_layer): Linear(in_features=100, out_features=1, bias=True)\n",
              "  (dropout): Dropout(p=0.4, inplace=False)\n",
              ")"
            ]
          },
          "execution_count": 21,
          "metadata": {},
          "output_type": "execute_result"
        }
      ],
      "source": [
        "train(danonet, epochs, criterion, optimizer, scheduler, dataloaders, verbose=True)"
      ]
    },
    {
      "cell_type": "markdown",
      "metadata": {
        "id": "S_eeKryY11-E"
      },
      "source": [
        "After the 14th epoch, the model no longer provides significant improvements in results. MAE is only ~3.5, the model explains ~61% of the variance."
      ]
    },
    {
      "cell_type": "code",
      "execution_count": null,
      "metadata": {
        "id": "qhLnVPEW11-F",
        "outputId": "641e499c-f327-4b00-954c-add7919c9c56"
      },
      "outputs": [
        {
          "data": {
            "image/png": "[encoded data removed]",
            "text/plain": [
              "<Figure size 720x360 with 1 Axes>"
            ]
          },
          "metadata": {},
          "output_type": "display_data"
        }
      ],
      "source": [
        "plot_losses(danonet.losses['train'], danonet.losses['val'])"
      ]
    },
    {
      "cell_type": "code",
      "execution_count": null,
      "metadata": {
        "id": "JzFuEv3I11-G",
        "outputId": "10de9305-63d7-41e2-d250-1208df223c82"
      },
      "outputs": [
        {
          "data": {
            "image/png": "[encoded data removed]",
            "text/plain": [
              "<Figure size 720x360 with 1 Axes>"
            ]
          },
          "metadata": {},
          "output_type": "display_data"
        },
        {
          "data": {
            "image/png": "[encoded data removed]",
            "text/plain": [
              "<Figure size 720x360 with 1 Axes>"
            ]
          },
          "metadata": {},
          "output_type": "display_data"
        },
        {
          "data": {
            "image/png": "[encoded data removed]",
            "text/plain": [
              "<Figure size 720x360 with 1 Axes>"
            ]
          },
          "metadata": {},
          "output_type": "display_data"
        }
      ],
      "source": [
        "plot_rmse(danonet.rmse_values)\n",
        "plot_mae(danonet.mae_values)\n",
        "plot_r2(danonet.r2_values)"
      ]
    },
    {
      "cell_type": "code",
      "execution_count": null,
      "metadata": {
        "id": "agdCaVRE11-I"
      },
      "outputs": [],
      "source": [
        "# Save the model\n",
        "torch.save(danonet.state_dict(), 'danonet.pth')"
      ]
    },
    {
      "cell_type": "code",
      "execution_count": null,
      "metadata": {
        "id": "942aH2Xm11-I",
        "outputId": "280aea32-836f-425f-8b72-f10e9a3c0368"
      },
      "outputs": [
        {
          "data": {
            "text/plain": [
              "DanoNet(\n",
              "  (hidden_layers): ModuleList(\n",
              "    (0): Linear(in_features=1244, out_features=300, bias=True)\n",
              "    (1): Linear(in_features=300, out_features=200, bias=True)\n",
              "    (2): Linear(in_features=200, out_features=100, bias=True)\n",
              "  )\n",
              "  (output_layer): Linear(in_features=100, out_features=1, bias=True)\n",
              "  (dropout): Dropout(p=0.4, inplace=False)\n",
              ")"
            ]
          },
          "execution_count": 25,
          "metadata": {},
          "output_type": "execute_result"
        }
      ],
      "source": [
        "danonet = DanoNet(n_input=X_train.shape[1], n_hidden=[300, 200, 100], drop_p=0.4)\n",
        "danonet.load_state_dict(torch.load('danonet.pth'))\n",
        "danonet.eval()"
      ]
    },
    {
      "cell_type": "code",
      "execution_count": null,
      "metadata": {
        "id": "GfdeZObw11-J"
      },
      "outputs": [],
      "source": [
        "# Get predictions\n",
        "danonet_pred = danonet.predict(test_tensor)"
      ]
    },
    {
      "cell_type": "code",
      "execution_count": null,
      "metadata": {
        "id": "4Yr1M_bj11-K",
        "outputId": "1cce71cd-83d9-409c-f82b-47161cd4a2ef"
      },
      "outputs": [
        {
          "data": {
            "text/html": [
              "<div>\n",
              "<style scoped>\n",
              "    .dataframe tbody tr th:only-of-type {\n",
              "        vertical-align: middle;\n",
              "    }\n",
              "\n",
              "    .dataframe tbody tr th {\n",
              "        vertical-align: top;\n",
              "    }\n",
              "\n",
              "    .dataframe thead th {\n",
              "        text-align: right;\n",
              "    }\n",
              "</style>\n",
              "<table border=\"1\" class=\"dataframe\">\n",
              "  <thead>\n",
              "    <tr style=\"text-align: right;\">\n",
              "      <th></th>\n",
              "      <th>PGI_DATE</th>\n",
              "      <th>SHIP_TO</th>\n",
              "      <th>SKU</th>\n",
              "      <th>FORECAST_VOL</th>\n",
              "      <th>TEAM</th>\n",
              "    </tr>\n",
              "  </thead>\n",
              "  <tbody>\n",
              "    <tr>\n",
              "      <th>0</th>\n",
              "      <td>20201001</td>\n",
              "      <td>5CF75D24155048112638F87DB1D1226C</td>\n",
              "      <td>7DFA4250D2207EEB61883DDF5B67A1A7</td>\n",
              "      <td>2.714166</td>\n",
              "      <td>TEAM_56</td>\n",
              "    </tr>\n",
              "    <tr>\n",
              "      <th>1</th>\n",
              "      <td>20201001</td>\n",
              "      <td>5CF75D24155048112638F87DB1D1226C</td>\n",
              "      <td>F2B3E6A656C805BF1CEB1FC5734E7622</td>\n",
              "      <td>2.283660</td>\n",
              "      <td>TEAM_56</td>\n",
              "    </tr>\n",
              "    <tr>\n",
              "      <th>2</th>\n",
              "      <td>20201001</td>\n",
              "      <td>5CF75D24155048112638F87DB1D1226C</td>\n",
              "      <td>8266B80A417D8DF4267AA877838FBBFA</td>\n",
              "      <td>1.025540</td>\n",
              "      <td>TEAM_56</td>\n",
              "    </tr>\n",
              "    <tr>\n",
              "      <th>3</th>\n",
              "      <td>20201001</td>\n",
              "      <td>5CF75D24155048112638F87DB1D1226C</td>\n",
              "      <td>37E9B839EEB8B2D3C484E37C548DCCAE</td>\n",
              "      <td>5.434736</td>\n",
              "      <td>TEAM_56</td>\n",
              "    </tr>\n",
              "    <tr>\n",
              "      <th>4</th>\n",
              "      <td>20201001</td>\n",
              "      <td>5CF75D24155048112638F87DB1D1226C</td>\n",
              "      <td>32CD0B3CFED084C5C03F6AAFA0BB8D13</td>\n",
              "      <td>5.606450</td>\n",
              "      <td>TEAM_56</td>\n",
              "    </tr>\n",
              "  </tbody>\n",
              "</table>\n",
              "</div>"
            ],
            "text/plain": [
              "   PGI_DATE                           SHIP_TO  \\\n",
              "0  20201001  5CF75D24155048112638F87DB1D1226C   \n",
              "1  20201001  5CF75D24155048112638F87DB1D1226C   \n",
              "2  20201001  5CF75D24155048112638F87DB1D1226C   \n",
              "3  20201001  5CF75D24155048112638F87DB1D1226C   \n",
              "4  20201001  5CF75D24155048112638F87DB1D1226C   \n",
              "\n",
              "                                SKU  FORECAST_VOL     TEAM  \n",
              "0  7DFA4250D2207EEB61883DDF5B67A1A7      2.714166  TEAM_56  \n",
              "1  F2B3E6A656C805BF1CEB1FC5734E7622      2.283660  TEAM_56  \n",
              "2  8266B80A417D8DF4267AA877838FBBFA      1.025540  TEAM_56  \n",
              "3  37E9B839EEB8B2D3C484E37C548DCCAE      5.434736  TEAM_56  \n",
              "4  32CD0B3CFED084C5C03F6AAFA0BB8D13      5.606450  TEAM_56  "
            ]
          },
          "execution_count": 27,
          "metadata": {},
          "output_type": "execute_result"
        }
      ],
      "source": [
        "# Form results\n",
        "test = pd.read_table('discount_for_202010.csv', delimiter=';')\n",
        "test.drop(columns=['DISCOUNT'], inplace=True)\n",
        "test['FORECAST_VOL'] = danonet_pred\n",
        "team = np.array(['TEAM_56']).repeat(57645)\n",
        "test['TEAM'] = team\n",
        "test.to_csv('team56_forecast.csv', sep=';')\n",
        "\n",
        "test.head()"
      ]
    },
    {
      "cell_type": "markdown",
      "metadata": {
        "id": "AWPnA0q111-L"
      },
      "source": [
        "On average, we have an idea that by October 2020 sales will decrease slightly, as expected:"
      ]
    },
    {
      "cell_type": "code",
      "execution_count": null,
      "metadata": {
        "id": "qNZLkqIX11-L",
        "outputId": "77d49669-0881-410b-e784-6402bcdb7277"
      },
      "outputs": [
        {
          "data": {
            "text/plain": [
              "count    57645.000000\n",
              "mean         6.083074\n",
              "std          8.113597\n",
              "min         -0.705594\n",
              "25%          1.533351\n",
              "50%          2.764344\n",
              "75%          7.316505\n",
              "max        158.123123\n",
              "Name: FORECAST_VOL, dtype: float64"
            ]
          },
          "execution_count": 29,
          "metadata": {},
          "output_type": "execute_result"
        }
      ],
      "source": [
        "test.FORECAST_VOL.describe()"
      ]
    }
  ],
  "metadata": {
    "kernelspec": {
      "display_name": "Python 3",
      "language": "python",
      "name": "python3"
    },
    "language_info": {
      "codemirror_mode": {
        "name": "ipython",
        "version": 3
      },
      "file_extension": ".py",
      "mimetype": "text/x-python",
      "name": "python",
      "nbconvert_exporter": "python",
      "pygments_lexer": "ipython3",
      "version": "3.7.4"
    },
    "colab": {
      "provenance": []
    }
  },
  "nbformat": 4,
  "nbformat_minor": 0
}
